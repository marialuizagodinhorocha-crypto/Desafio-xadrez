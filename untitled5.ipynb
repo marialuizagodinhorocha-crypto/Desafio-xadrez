{
  "nbformat": 4,
  "nbformat_minor": 0,
  "metadata": {
    "colab": {
      "provenance": [],
      "authorship_tag": "ABX9TyOe/8bHxVsxnpA3LpiWk+cb",
      "include_colab_link": true
    },
    "kernelspec": {
      "name": "python3",
      "display_name": "Python 3"
    },
    "language_info": {
      "name": "python"
    }
  },
  "cells": [
    {
      "cell_type": "markdown",
      "metadata": {
        "id": "view-in-github",
        "colab_type": "text"
      },
      "source": [
        "<a href=\"https://colab.research.google.com/github/marialuizagodinhorocha-crypto/Desafio-xadrez/blob/main/untitled5.ipynb\" target=\"_parent\"><img src=\"https://colab.research.google.com/assets/colab-badge.svg\" alt=\"Open In Colab\"/></a>"
      ]
    },
    {
      "cell_type": "code",
      "execution_count": null,
      "metadata": {
        "colab": {
          "base_uri": "https://localhost:8080/"
        },
        "id": "vtX3Lp-6fB5L",
        "outputId": "b30d2a81-1c3b-44a8-c79a-33fd0b8dede5"
      },
      "outputs": [
        {
          "output_type": "stream",
          "name": "stdout",
          "text": [
            "Reading package lists... Done\n",
            "Building dependency tree... Done\n",
            "Reading state information... Done\n",
            "gcc is already the newest version (4:11.2.0-1ubuntu1).\n",
            "0 upgraded, 0 newly installed, 0 to remove and 35 not upgraded.\n"
          ]
        }
      ],
      "source": [
        "!apt-get install gcc\n"
      ]
    },
    {
      "cell_type": "code",
      "source": [
        "%%writefile matecheck.c\n",
        "#include <stdio.h>\n",
        "\n",
        "// Definição de constantes para os movimentos\n",
        "const int MOVIMENTO_BISPO = 5;   // Bispo: 5 casas\n",
        "const int MOVIMENTO_TORRE = 5;   // Torre: 5 casas\n",
        "const int MOVIMENTO_RAINHA = 8;  // Rainha: 8 casas\n",
        "\n",
        "int main() {\n",
        "    // -----------------------------\n",
        "    // Movimentação do BISPO\n",
        "    // -----------------------------\n",
        "    printf(\"Movimentação do Bispo:\\n\");\n",
        "    // Usando FOR para repetir o movimento 5 vezes (diagonal superior direita)\n",
        "    for (int i = 0; i < MOVIMENTO_BISPO; i++) {\n",
        "        printf(\"Cima\\n\");\n",
        "        printf(\"Direita\\n\");\n",
        "    }\n",
        "    printf(\"\\n\");\n",
        "\n",
        "    // -----------------------------\n",
        "    // Movimentação da TORRE\n",
        "    // -----------------------------\n",
        "    printf(\"Movimentação da Torre:\\n\");\n",
        "    // Usando WHILE para repetir o movimento 5 vezes (somente para a direita)\n",
        "    int t = 0;\n",
        "    while (t < MOVIMENTO_TORRE) {\n",
        "        printf(\"Direita\\n\");\n",
        "        t++;\n",
        "    }\n",
        "    printf(\"\\n\");\n",
        "\n",
        "    // -----------------------------\n",
        "    // Movimentação da RAINHA\n",
        "    // -----------------------------\n",
        "    printf(\"Movimentação da Rainha:\\n\");\n",
        "    // Usando DO-WHILE para repetir o movimento 8 vezes (somente para a esquerda)\n",
        "    int r = 0;\n",
        "    do {\n",
        "        printf(\"Esquerda\\n\");\n",
        "        r++;\n",
        "    } while (r < MOVIMENTO_RAINHA);\n",
        "    printf(\"\\n\");\n",
        "\n",
        "    // Fim do programa\n",
        "    printf(\"Fim da simulação de movimentos do MateCheck!\\n\");\n",
        "\n",
        "    return 0;\n",
        "}\n"
      ],
      "metadata": {
        "colab": {
          "base_uri": "https://localhost:8080/"
        },
        "id": "0v51Q-kWf31v",
        "outputId": "582a8550-c839-4665-8703-8ef8b767b5c4"
      },
      "execution_count": null,
      "outputs": [
        {
          "output_type": "stream",
          "name": "stdout",
          "text": [
            "Overwriting matecheck.c\n"
          ]
        }
      ]
    },
    {
      "cell_type": "code",
      "source": [
        "!gcc matecheck.c -o matecheck\n",
        "!./matecheck\n"
      ],
      "metadata": {
        "colab": {
          "base_uri": "https://localhost:8080/"
        },
        "id": "NVBXmEdof_HQ",
        "outputId": "63a32385-5cad-462d-e9a3-9396e9cd1483"
      },
      "execution_count": null,
      "outputs": [
        {
          "output_type": "stream",
          "name": "stdout",
          "text": [
            "Movimentação do Bispo:\n",
            "Cima\n",
            "Direita\n",
            "Cima\n",
            "Direita\n",
            "Cima\n",
            "Direita\n",
            "Cima\n",
            "Direita\n",
            "Cima\n",
            "Direita\n",
            "\n",
            "Movimentação da Torre:\n",
            "Direita\n",
            "Direita\n",
            "Direita\n",
            "Direita\n",
            "Direita\n",
            "\n",
            "Movimentação da Rainha:\n",
            "Esquerda\n",
            "Esquerda\n",
            "Esquerda\n",
            "Esquerda\n",
            "Esquerda\n",
            "Esquerda\n",
            "Esquerda\n",
            "Esquerda\n",
            "\n",
            "Fim da simulação de movimentos do MateCheck!\n"
          ]
        }
      ]
    }
  ]
}